{
 "cells": [
  {
   "cell_type": "code",
   "execution_count": 1,
   "id": "a054ab47",
   "metadata": {},
   "outputs": [
    {
     "name": "stdout",
     "output_type": "stream",
     "text": [
      "                                 Life expectancy \n",
      "Year                                     0.170033\n",
      "Life expectancy                          1.000000\n",
      "Adult Mortality                         -0.696359\n",
      "infant deaths                           -0.196557\n",
      "Alcohol                                  0.404877\n",
      "percentage expenditure                   0.381864\n",
      "Hepatitis B                              0.256762\n",
      "Measles                                 -0.157586\n",
      " BMI                                     0.567694\n",
      "under-five deaths                       -0.222529\n",
      "Polio                                    0.465556\n",
      "Total expenditure                        0.218086\n",
      "Diphtheria                               0.479495\n",
      " HIV/AIDS                               -0.556556\n",
      "GDP                                      0.461455\n",
      "Population                              -0.021538\n",
      " thinness  1-19 years                   -0.477183\n",
      " thinness 5-9 years                     -0.471584\n",
      "Income composition of resources          0.724776\n",
      "Schooling                                0.751975\n"
     ]
    },
    {
     "name": "stderr",
     "output_type": "stream",
     "text": [
      "C:\\Users\\soph_\\AppData\\Local\\Temp\\ipykernel_23968\\352266047.py:6: FutureWarning: The default value of numeric_only in DataFrame.corr is deprecated. In a future version, it will default to False. Select only valid columns or specify the value of numeric_only to silence this warning.\n",
      "  correlation = data.corr() #correlation function\n"
     ]
    }
   ],
   "source": [
    "import pandas as pd\n",
    "\n",
    "data = pd.read_csv('Life Expectancy Data.csv') #getting life expectancy data file \n",
    "data = data[['Country','Year','Status','Life expectancy ','Adult Mortality','infant deaths','Alcohol','percentage expenditure','Hepatitis B','Measles ',' BMI ','under-five deaths ','Polio','Total expenditure','Diphtheria ',' HIV/AIDS','GDP','Population',' thinness  1-19 years',' thinness 5-9 years','Income composition of resources','Schooling']] \n",
    "\n",
    "correlation = data.corr() #correlation function\n",
    "lifeExpectancyCorr = correlation[['Life expectancy ']] #using the correlation function for Life expectancy\n",
    "\n",
    "print(lifeExpectancyCorr)"
   ]
  }
 ],
 "metadata": {
  "kernelspec": {
   "display_name": "Python 3 (ipykernel)",
   "language": "python",
   "name": "python3"
  },
  "language_info": {
   "codemirror_mode": {
    "name": "ipython",
    "version": 3
   },
   "file_extension": ".py",
   "mimetype": "text/x-python",
   "name": "python",
   "nbconvert_exporter": "python",
   "pygments_lexer": "ipython3",
   "version": "3.11.4"
  }
 },
 "nbformat": 4,
 "nbformat_minor": 5
}
